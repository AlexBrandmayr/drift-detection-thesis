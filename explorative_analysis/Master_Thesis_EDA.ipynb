{
 "cells": [
  {
   "cell_type": "markdown",
   "id": "77d649d5",
   "metadata": {},
   "source": [
    "## Explorative Data Analysis of Concept Drift Data"
   ]
  },
  {
   "cell_type": "code",
   "execution_count": null,
   "id": "d038b956",
   "metadata": {},
   "outputs": [],
   "source": [
    "import pandas as pd\n",
    "import numpy as np\n",
    "import matplotlib.pyplot as plt\n",
    "from statsmodels.tsa.api import ExponentialSmoothing, SimpleExpSmoothing\n",
    "from scipy.stats import gaussian_kde\n",
    "\n",
    "\n",
    "from plotly.subplots import make_subplots\n",
    "import plotly.graph_objs as go\n",
    "import plotly.express as px"
   ]
  },
  {
   "cell_type": "code",
   "execution_count": null,
   "id": "a3cb99a8",
   "metadata": {},
   "outputs": [],
   "source": [
    "# Import the data\n",
    "\n",
    "# motor current line8 / Motorstroeme Linie 8\n",
    "df_drift_EI8 = pd.read_pickle(\"dataframe_EI8.pkl\")\n",
    "\n",
    "# motor current line 3 / Motorstroeme Linie 3\n",
    "df_drift_EI3 = pd.read_pickle(\"dataframe_EI3.pkl\")\n"
   ]
  },
  {
   "cell_type": "code",
   "execution_count": null,
   "id": "92c9c210",
   "metadata": {},
   "outputs": [],
   "source": [
    "print(' Descriptive Analyse Motorstroeme Linie 8')\n",
    "df_drift_EI8.describe()"
   ]
  },
  {
   "cell_type": "code",
   "execution_count": null,
   "id": "ee6e1aa7",
   "metadata": {},
   "outputs": [],
   "source": [
    "print(' Descriptive Analyse Motorstroeme Linie 3')\n",
    "df_drift_EI3.describe()"
   ]
  },
  {
   "cell_type": "markdown",
   "id": "728a7ece",
   "metadata": {},
   "source": [
    "## Create Line Plots of the Data"
   ]
  },
  {
   "cell_type": "markdown",
   "id": "ed96ce25",
   "metadata": {},
   "source": [
    "\n",
    "### Motor currents line 8"
   ]
  },
  {
   "cell_type": "code",
   "execution_count": null,
   "id": "a2597fa7",
   "metadata": {},
   "outputs": [],
   "source": [
    "tag= 'motor_current8.1'\n",
    "fig = px.line(df_drift_EI8, x=\"Timestamp\", y=tag, title=tag)\n",
    "fig.show()"
   ]
  },
  {
   "cell_type": "code",
   "execution_count": null,
   "id": "9882f4c5",
   "metadata": {},
   "outputs": [],
   "source": [
    "tag= 'motor_current8.2'\n",
    "fig = px.line(df_drift_EI8, x=\"Timestamp\", y=tag, title=tag)\n",
    "fig.show()"
   ]
  },
  {
   "cell_type": "code",
   "execution_count": null,
   "id": "4484be52",
   "metadata": {},
   "outputs": [],
   "source": [
    "tag= 'motor_current8.3'\n",
    "fig = px.line(df_drift_EI8, x=\"Timestamp\", y=tag, title=tag)\n",
    "fig.show()"
   ]
  },
  {
   "cell_type": "code",
   "execution_count": null,
   "id": "91a0c776",
   "metadata": {},
   "outputs": [],
   "source": [
    "tag= 'motor_current8.4'\n",
    "fig = px.line(df_drift_EI8, x=\"Timestamp\", y=tag, title=tag)\n",
    "fig.show()"
   ]
  },
  {
   "cell_type": "code",
   "execution_count": null,
   "id": "33b33a8e",
   "metadata": {},
   "outputs": [],
   "source": [
    "tag= 'motor_current8.5'\n",
    "fig = px.line(df_drift_EI8, x=\"Timestamp\", y=tag, title=tag)\n",
    "fig.show()"
   ]
  },
  {
   "cell_type": "code",
   "execution_count": null,
   "id": "8a10d334",
   "metadata": {},
   "outputs": [],
   "source": [
    "tag= 'motor_current8.6'\n",
    "fig = px.line(df_drift_EI8, x=\"Timestamp\", y=tag, title=tag)\n",
    "fig.show()"
   ]
  },
  {
   "cell_type": "code",
   "execution_count": null,
   "id": "daec4ccf",
   "metadata": {},
   "outputs": [],
   "source": [
    "tag= 'motor_current8.7'\n",
    "fig = px.line(df_drift_EI8, x=\"Timestamp\", y=tag, title=tag)\n",
    "fig.show()"
   ]
  },
  {
   "cell_type": "code",
   "execution_count": null,
   "id": "aea156b7",
   "metadata": {},
   "outputs": [],
   "source": [
    "tag= 'motor_current8.8'\n",
    "fig = px.line(df_drift_EI8, x=\"Timestamp\", y=tag, title=tag)\n",
    "fig.show()"
   ]
  },
  {
   "cell_type": "code",
   "execution_count": null,
   "id": "37e16976",
   "metadata": {},
   "outputs": [],
   "source": [
    "### Motor currents line 3"
   ]
  },
  {
   "cell_type": "code",
   "execution_count": null,
   "id": "541f3a0c",
   "metadata": {},
   "outputs": [],
   "source": [
    "tag= 'motor_current3.1'\n",
    "fig = px.line(df_drift_EI3, x=\"Timestamp\", y=tag, title=tag)\n",
    "fig.show()"
   ]
  },
  {
   "cell_type": "code",
   "execution_count": null,
   "id": "47800eaa",
   "metadata": {},
   "outputs": [],
   "source": [
    "tag= 'motor_current3.2'\n",
    "fig = px.line(df_drift_EI3, x=\"Timestamp\", y=tag, title=tag)\n",
    "fig.show()"
   ]
  },
  {
   "cell_type": "code",
   "execution_count": null,
   "id": "90628936",
   "metadata": {
    "scrolled": true
   },
   "outputs": [],
   "source": [
    "tag= 'motor_current3.3'\n",
    "fig = px.line(df_drift_EI3, x=\"Timestamp\", y=tag, title=tag)\n",
    "fig.show()"
   ]
  },
  {
   "cell_type": "markdown",
   "id": "eb1b0459",
   "metadata": {},
   "source": [
    "## Histograms and Density Plots:\n",
    "### Motor currents Line 8"
   ]
  },
  {
   "cell_type": "code",
   "execution_count": null,
   "id": "2c3154bd",
   "metadata": {},
   "outputs": [],
   "source": [
    "tag = 'motor_current8.1'\n",
    "fig = go.Figure()\n",
    "fig = make_subplots(rows=1, cols=2)\n",
    "\n",
    "density = gaussian_kde(df_drift_EI8[tag])\n",
    "\n",
    "fig.add_trace(go.Histogram(x=df_drift_EI8[tag]), row=1, col=1)\n",
    "x_vals = np.linspace(df_drift_EI8[tag].min(), df_drift_EI8[tag].max(), num=100)\n",
    "fig.add_trace(go.Scatter(x=x_vals, y=density(x_vals), mode='lines', name='density'), row=1, col=2)\n",
    "\n",
    "fig.update_layout(title='Histogram and Density Plot', width=800, height=400, showlegend=False)\n",
    "\n",
    "# Display the plot\n",
    "fig.show()"
   ]
  },
  {
   "cell_type": "code",
   "execution_count": null,
   "id": "7cb301dd",
   "metadata": {},
   "outputs": [],
   "source": [
    "tag = 'motor_current8.2'\n",
    "fig = go.Figure()\n",
    "fig = make_subplots(rows=1, cols=2)\n",
    "\n",
    "density = gaussian_kde(df_drift_EI8[tag])\n",
    "\n",
    "fig.add_trace(go.Histogram(x=df_drift_EI8[tag]), row=1, col=1)\n",
    "x_vals = np.linspace(df_drift_EI8[tag].min(), df_drift_EI8[tag].max(), num=100)\n",
    "fig.add_trace(go.Scatter(x=x_vals, y=density(x_vals), mode='lines', name='density'), row=1, col=2)\n",
    "\n",
    "fig.update_layout(title='Histogram and Density Plot', width=800, height=400, showlegend=False)\n",
    "\n",
    "# Display the plot\n",
    "fig.show()"
   ]
  },
  {
   "cell_type": "code",
   "execution_count": null,
   "id": "f6854061",
   "metadata": {},
   "outputs": [],
   "source": [
    "tag = 'motor_current8.3'\n",
    "fig = go.Figure()\n",
    "fig = make_subplots(rows=1, cols=2)\n",
    "\n",
    "density = gaussian_kde(df_drift_EI8[tag])\n",
    "\n",
    "fig.add_trace(go.Histogram(x=df_drift_EI8[tag]), row=1, col=1)\n",
    "x_vals = np.linspace(df_drift_EI8[tag].min(), df_drift_EI8[tag].max(), num=100)\n",
    "fig.add_trace(go.Scatter(x=x_vals, y=density(x_vals), mode='lines', name='density'), row=1, col=2)\n",
    "\n",
    "fig.update_layout(title='Histogram and Density Plot', width=800, height=400, showlegend=False)\n",
    "\n",
    "# Display the plot\n",
    "fig.show()"
   ]
  },
  {
   "cell_type": "code",
   "execution_count": null,
   "id": "bdc6c7b9",
   "metadata": {},
   "outputs": [],
   "source": [
    "tag = 'motor_current8.4'\n",
    "fig = go.Figure()\n",
    "fig = make_subplots(rows=1, cols=2)\n",
    "\n",
    "density = gaussian_kde(df_drift_EI8[tag])\n",
    "\n",
    "fig.add_trace(go.Histogram(x=df_drift_EI8[tag]), row=1, col=1)\n",
    "x_vals = np.linspace(df_drift_EI8[tag].min(), df_drift_EI8[tag].max(), num=100)\n",
    "fig.add_trace(go.Scatter(x=x_vals, y=density(x_vals), mode='lines', name='density'), row=1, col=2)\n",
    "\n",
    "fig.update_layout(title='Histogram and Density Plot', width=800, height=400, showlegend=False)\n",
    "\n",
    "# Display the plot\n",
    "fig.show()"
   ]
  },
  {
   "cell_type": "code",
   "execution_count": null,
   "id": "86f7b0ca",
   "metadata": {},
   "outputs": [],
   "source": [
    "tag = 'motor_current8.5'\n",
    "fig = go.Figure()\n",
    "fig = make_subplots(rows=1, cols=2)\n",
    "\n",
    "density = gaussian_kde(df_drift_EI8[tag])\n",
    "\n",
    "fig.add_trace(go.Histogram(x=df_drift_EI8[tag]), row=1, col=1)\n",
    "x_vals = np.linspace(df_drift_EI8[tag].min(), df_drift_EI8[tag].max(), num=100)\n",
    "fig.add_trace(go.Scatter(x=x_vals, y=density(x_vals), mode='lines', name='density'), row=1, col=2)\n",
    "\n",
    "fig.update_layout(title='Histogram and Density Plot', width=800, height=400, showlegend=False)\n",
    "\n",
    "# Display the plot\n",
    "fig.show()"
   ]
  },
  {
   "cell_type": "code",
   "execution_count": null,
   "id": "db010f76",
   "metadata": {},
   "outputs": [],
   "source": [
    "tag = 'motor_current8.6'\n",
    "fig = go.Figure()\n",
    "fig = make_subplots(rows=1, cols=2)\n",
    "\n",
    "density = gaussian_kde(df_drift_EI8[tag])\n",
    "\n",
    "fig.add_trace(go.Histogram(x=df_drift_EI8[tag]), row=1, col=1)\n",
    "x_vals = np.linspace(df_drift_EI8[tag].min(), df_drift_EI8[tag].max(), num=100)\n",
    "fig.add_trace(go.Scatter(x=x_vals, y=density(x_vals), mode='lines', name='density'), row=1, col=2)\n",
    "\n",
    "fig.update_layout(title='Histogram and Density Plot', width=800, height=400, showlegend=False)\n",
    "\n",
    "# Display the plot\n",
    "fig.show()"
   ]
  },
  {
   "cell_type": "code",
   "execution_count": null,
   "id": "72c38d36",
   "metadata": {},
   "outputs": [],
   "source": [
    "tag = 'motor_current8.7'\n",
    "fig = go.Figure()\n",
    "fig = make_subplots(rows=1, cols=2)\n",
    "\n",
    "density = gaussian_kde(df_drift_EI8[tag])\n",
    "\n",
    "fig.add_trace(go.Histogram(x=df_drift_EI8[tag]), row=1, col=1)\n",
    "x_vals = np.linspace(df_drift_EI8[tag].min(), df_drift_EI8[tag].max(), num=100)\n",
    "fig.add_trace(go.Scatter(x=x_vals, y=density(x_vals), mode='lines', name='density'), row=1, col=2)\n",
    "\n",
    "fig.update_layout(title='Histogram and Density Plot', width=800, height=400, showlegend=False)\n",
    "\n",
    "# Display the plot\n",
    "fig.show()"
   ]
  },
  {
   "cell_type": "code",
   "execution_count": null,
   "id": "84182bd4",
   "metadata": {},
   "outputs": [],
   "source": [
    "tag = 'motor_current8.8'\n",
    "fig = go.Figure()\n",
    "fig = make_subplots(rows=1, cols=2)\n",
    "\n",
    "density = gaussian_kde(df_drift_EI8[tag])\n",
    "\n",
    "fig.add_trace(go.Histogram(x=df_drift_EI8[tag]), row=1, col=1)\n",
    "x_vals = np.linspace(df_drift_EI8[tag].min(), df_drift_EI8[tag].max(), num=100)\n",
    "fig.add_trace(go.Scatter(x=x_vals, y=density(x_vals), mode='lines', name='density'), row=1, col=2)\n",
    "\n",
    "fig.update_layout(title='Histogram and Density Plot', width=800, height=400, showlegend=False)\n",
    "\n",
    "# Display the plot\n",
    "fig.show()"
   ]
  },
  {
   "cell_type": "markdown",
   "id": "a3cd1610",
   "metadata": {},
   "source": [
    "### Motor currents Line 3"
   ]
  },
  {
   "cell_type": "code",
   "execution_count": null,
   "id": "99f4d39b",
   "metadata": {},
   "outputs": [],
   "source": [
    "tag ='motor_current3.1'\n",
    "fig = go.Figure()\n",
    "fig = make_subplots(rows=1, cols=2)\n",
    "\n",
    "density = gaussian_kde(df_drift_EI3[tag])\n",
    "\n",
    "fig.add_trace(go.Histogram(x=df_drift_EI3[tag]), row=1, col=1)\n",
    "x_vals = np.linspace(df_drift_EI3[tag].min(), df_drift_EI3[tag].max(), num=100)\n",
    "fig.add_trace(go.Scatter(x=x_vals, y=density(x_vals), mode='lines', name='density'), row=1, col=2)\n",
    "\n",
    "fig.update_layout(title='Histogram and Density Plot', width=800, height=400, showlegend=False)\n",
    "\n",
    "# Display the plot\n",
    "fig.show()"
   ]
  },
  {
   "cell_type": "code",
   "execution_count": null,
   "id": "de80dfab",
   "metadata": {},
   "outputs": [],
   "source": [
    "tag ='motor_current3.2'\n",
    "fig = go.Figure()\n",
    "fig = make_subplots(rows=1, cols=2)\n",
    "\n",
    "density = gaussian_kde(df_drift_EI3[tag])\n",
    "\n",
    "fig.add_trace(go.Histogram(x=df_drift_EI3[tag]), row=1, col=1)\n",
    "x_vals = np.linspace(df_drift_EI3[tag].min(), df_drift_EI3[tag].max(), num=100)\n",
    "fig.add_trace(go.Scatter(x=x_vals, y=density(x_vals), mode='lines', name='density'), row=1, col=2)\n",
    "\n",
    "fig.update_layout(title='Histogram and Density Plot', width=800, height=400, showlegend=False)\n",
    "\n",
    "# Display the plot\n",
    "fig.show()"
   ]
  },
  {
   "cell_type": "code",
   "execution_count": null,
   "id": "9c42881a",
   "metadata": {},
   "outputs": [],
   "source": [
    "tag = 'motor_current3.3'\n",
    "fig = go.Figure()\n",
    "fig = make_subplots(rows=1, cols=2)\n",
    "\n",
    "density = gaussian_kde(df_drift_EI3[tag])\n",
    "\n",
    "fig.add_trace(go.Histogram(x=df_drift_EI3[tag]), row=1, col=1)\n",
    "x_vals = np.linspace(df_drift_EI3[tag].min(), df_drift_EI3[tag].max(), num=100)\n",
    "fig.add_trace(go.Scatter(x=x_vals, y=density(x_vals), mode='lines', name='density'), row=1, col=2)\n",
    "\n",
    "fig.update_layout(title='Histogram and Density Plot', width=800, height=400, showlegend=False)\n",
    "\n",
    "# Display the plot\n",
    "fig.show()"
   ]
  }
 ],
 "metadata": {
  "kernelspec": {
   "display_name": "Python (env_MA)",
   "language": "python",
   "name": "env_ma"
  },
  "language_info": {
   "codemirror_mode": {
    "name": "ipython",
    "version": 3
   },
   "file_extension": ".py",
   "mimetype": "text/x-python",
   "name": "python",
   "nbconvert_exporter": "python",
   "pygments_lexer": "ipython3",
   "version": "3.10.14"
  }
 },
 "nbformat": 4,
 "nbformat_minor": 5
}
